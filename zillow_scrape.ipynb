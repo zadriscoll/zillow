{
 "cells": [
  {
   "cell_type": "code",
   "execution_count": 90,
   "id": "32418619",
   "metadata": {},
   "outputs": [],
   "source": [
    "import requests\n",
    "import re\n",
    "import json\n",
    "import pandas as pd\n",
    "import numpy as np\n",
    "from scipy import stats\n",
    "import warnings\n",
    "import matplotlib.pyplot as plt\n",
    "%matplotlib inline\n",
    "import seaborn as sns"
   ]
  },
  {
   "cell_type": "code",
   "execution_count": 99,
   "id": "c5e4ef4b",
   "metadata": {},
   "outputs": [],
   "source": [
    "warnings.filterwarnings('ignore')\n",
    "req_headers = {\n",
    "    'accept': 'text/html,application/xhtml+xml,application/xml;q=0.9,image/webp,image/apng,*/*;q=0.8',\n",
    "    'accept-encoding': 'gzip, deflate, br',\n",
    "    'accept-language': 'en-US,en;q=0.8',\n",
    "    'upgrade-insecure-requests': '1',\n",
    "    'user-agent': 'Mozilla/5.0 (Windows NT 10.0; Win64; x64) AppleWebKit/537.36 (KHTML, like Gecko) Chrome/61.0.3163.100 Safari/537.36'\n",
    "}\n",
    "\n",
    "city = 'orem-ut/' #*****change this city to what you want!!!!*****\n",
    "data_list = []\n",
    "urls = []\n",
    "for page in range(1,10):\n",
    "    if page == 1:\n",
    "        url = 'https://www.zillow.com/homes/for_sale/'+city\n",
    "    else:\n",
    "        url = 'https://www.zillow.com/homes/for_sale/'+city+str(page)+'_p/'\n",
    "    with requests.Session() as s:\n",
    "        r = s.get(url, headers=req_headers)\n",
    "        data = json.loads(re.search(r'!--(\\{\"queryState\".*?)-->', r.text).group(1))\n",
    "    urls.append(url)\n",
    "    data_list.append(data)"
   ]
  },
  {
   "cell_type": "code",
   "execution_count": 100,
   "id": "689735ce",
   "metadata": {},
   "outputs": [],
   "source": [
    "df = pd.DataFrame()\n",
    "\n",
    "def make_frame(frame):\n",
    "    for i in data_list:\n",
    "        for item in i['cat1']['searchResults']['listResults']:\n",
    "            frame = frame.append(item, ignore_index=True)\n",
    "    return frame\n",
    "\n",
    "df = make_frame(df)"
   ]
  },
  {
   "cell_type": "code",
   "execution_count": 101,
   "id": "b85189d6",
   "metadata": {},
   "outputs": [
    {
     "name": "stdout",
     "output_type": "stream",
     "text": [
      "shape: (151, 52)\n"
     ]
    }
   ],
   "source": [
    "#filter unneccesary columns\n",
    "df = df.drop('hdpData', 1) #remove this line to see a whole bunch of other random cols, in dict format\n",
    "\n",
    "#get rid of duplicates\n",
    "df = df.drop_duplicates(subset='zpid', keep=\"last\")\n",
    "df['area'] = df['area'].fillna(1)\n",
    "#filters\n",
    "df['zestimate'] = df['zestimate'].fillna(0)\n",
    "df['best_deal'] = df['unformattedPrice'] - df['zestimate']\n",
    "df['price per sq ft'] = df['unformattedPrice'] / df['area']\n",
    "df = df.sort_values(by='best_deal',ascending=True)\n",
    "print('shape:', df.shape)\n",
    "homes = df[['address','beds','baths','area','price','zestimate','best_deal', 'price per sq ft','unformattedPrice']]"
   ]
  },
  {
   "cell_type": "code",
   "execution_count": 94,
   "id": "f6c8e871",
   "metadata": {},
   "outputs": [
    {
     "data": {
      "text/html": [
       "<div>\n",
       "<style scoped>\n",
       "    .dataframe tbody tr th:only-of-type {\n",
       "        vertical-align: middle;\n",
       "    }\n",
       "\n",
       "    .dataframe tbody tr th {\n",
       "        vertical-align: top;\n",
       "    }\n",
       "\n",
       "    .dataframe thead th {\n",
       "        text-align: right;\n",
       "    }\n",
       "</style>\n",
       "<table border=\"1\" class=\"dataframe\">\n",
       "  <thead>\n",
       "    <tr style=\"text-align: right;\">\n",
       "      <th></th>\n",
       "      <th>address</th>\n",
       "      <th>beds</th>\n",
       "      <th>baths</th>\n",
       "      <th>area</th>\n",
       "      <th>price</th>\n",
       "      <th>zestimate</th>\n",
       "      <th>best_deal</th>\n",
       "      <th>price per sq ft</th>\n",
       "      <th>detailUrl</th>\n",
       "      <th>unformattedPrice</th>\n",
       "    </tr>\n",
       "  </thead>\n",
       "  <tbody>\n",
       "    <tr>\n",
       "      <th>318</th>\n",
       "      <td>1774 N Heather Dr, Orem, UT 84097</td>\n",
       "      <td>7</td>\n",
       "      <td>4.0</td>\n",
       "      <td>3508</td>\n",
       "      <td>$689,000</td>\n",
       "      <td>748300</td>\n",
       "      <td>-59300</td>\n",
       "      <td>1.964082e+02</td>\n",
       "      <td>https://www.zillow.com/homedetails/1774-N-Heat...</td>\n",
       "      <td>689000</td>\n",
       "    </tr>\n",
       "    <tr>\n",
       "      <th>309</th>\n",
       "      <td>842 N 235 E, Orem, UT 84057</td>\n",
       "      <td>4</td>\n",
       "      <td>1.0</td>\n",
       "      <td>1280</td>\n",
       "      <td>$312,000</td>\n",
       "      <td>364400</td>\n",
       "      <td>-52400</td>\n",
       "      <td>2.437500e+02</td>\n",
       "      <td>https://www.zillow.com/homedetails/842-N-235-E...</td>\n",
       "      <td>312000</td>\n",
       "    </tr>\n",
       "    <tr>\n",
       "      <th>110</th>\n",
       "      <td>795 S 800 W, Orem, UT 84058</td>\n",
       "      <td>4</td>\n",
       "      <td>3.0</td>\n",
       "      <td>3040</td>\n",
       "      <td>$520,000</td>\n",
       "      <td>562700</td>\n",
       "      <td>-42700</td>\n",
       "      <td>1.710526e+02</td>\n",
       "      <td>https://www.zillow.com/homedetails/795-S-800-W...</td>\n",
       "      <td>520000</td>\n",
       "    </tr>\n",
       "    <tr>\n",
       "      <th>80</th>\n",
       "      <td>178 E 1910th St S, Orem, UT 84058</td>\n",
       "      <td>8</td>\n",
       "      <td>5.0</td>\n",
       "      <td>8921</td>\n",
       "      <td>$1,450,000</td>\n",
       "      <td>1485600</td>\n",
       "      <td>-35600</td>\n",
       "      <td>1.625378e+02</td>\n",
       "      <td>https://www.zillow.com/homedetails/178-E-1910t...</td>\n",
       "      <td>1450000</td>\n",
       "    </tr>\n",
       "    <tr>\n",
       "      <th>343</th>\n",
       "      <td>60 W 255 S, Orem, UT 84058</td>\n",
       "      <td>5</td>\n",
       "      <td>2.0</td>\n",
       "      <td>3148</td>\n",
       "      <td>$540,000</td>\n",
       "      <td>567200</td>\n",
       "      <td>-27200</td>\n",
       "      <td>1.715375e+02</td>\n",
       "      <td>https://www.zillow.com/homedetails/60-W-255-S-...</td>\n",
       "      <td>540000</td>\n",
       "    </tr>\n",
       "    <tr>\n",
       "      <th>...</th>\n",
       "      <td>...</td>\n",
       "      <td>...</td>\n",
       "      <td>...</td>\n",
       "      <td>...</td>\n",
       "      <td>...</td>\n",
       "      <td>...</td>\n",
       "      <td>...</td>\n",
       "      <td>...</td>\n",
       "      <td>...</td>\n",
       "      <td>...</td>\n",
       "    </tr>\n",
       "    <tr>\n",
       "      <th>98</th>\n",
       "      <td>387 E 1350 N #13, Orem, UT 84058</td>\n",
       "      <td>4</td>\n",
       "      <td>3.0</td>\n",
       "      <td>4677</td>\n",
       "      <td>$1,299,900</td>\n",
       "      <td>0</td>\n",
       "      <td>1299900</td>\n",
       "      <td>2.779346e+02</td>\n",
       "      <td>https://www.zillow.com/homedetails/387-E-1350-...</td>\n",
       "      <td>1299900</td>\n",
       "    </tr>\n",
       "    <tr>\n",
       "      <th>131</th>\n",
       "      <td>383 E 1375 N #17, Orem, UT 84057</td>\n",
       "      <td>5</td>\n",
       "      <td>4.0</td>\n",
       "      <td>5932</td>\n",
       "      <td>$1,354,900</td>\n",
       "      <td>0</td>\n",
       "      <td>1354900</td>\n",
       "      <td>2.284053e+02</td>\n",
       "      <td>https://www.zillow.com/homedetails/383-E-1375-...</td>\n",
       "      <td>1354900</td>\n",
       "    </tr>\n",
       "    <tr>\n",
       "      <th>145</th>\n",
       "      <td>1646 N 160 E, Orem, UT 84057</td>\n",
       "      <td>None</td>\n",
       "      <td>0.0</td>\n",
       "      <td>1</td>\n",
       "      <td>$1,500,000</td>\n",
       "      <td>0</td>\n",
       "      <td>1500000</td>\n",
       "      <td>1.500000e+06</td>\n",
       "      <td>https://www.zillow.com/homedetails/1646-N-160-...</td>\n",
       "      <td>1500000</td>\n",
       "    </tr>\n",
       "    <tr>\n",
       "      <th>41</th>\n",
       "      <td>1384 N 450 E, Orem, UT 84097</td>\n",
       "      <td>10</td>\n",
       "      <td>13.0</td>\n",
       "      <td>30386</td>\n",
       "      <td>$25,000,000</td>\n",
       "      <td>23390900</td>\n",
       "      <td>1609100</td>\n",
       "      <td>8.227473e+02</td>\n",
       "      <td>https://www.zillow.com/homedetails/1384-N-450-...</td>\n",
       "      <td>25000000</td>\n",
       "    </tr>\n",
       "    <tr>\n",
       "      <th>86</th>\n",
       "      <td>1090 N 400 E, Orem, UT 84057</td>\n",
       "      <td>None</td>\n",
       "      <td>None</td>\n",
       "      <td>1</td>\n",
       "      <td>$2,000,000</td>\n",
       "      <td>0</td>\n",
       "      <td>2000000</td>\n",
       "      <td>2.000000e+06</td>\n",
       "      <td>https://www.zillow.com/homedetails/1090-N-400-...</td>\n",
       "      <td>2000000</td>\n",
       "    </tr>\n",
       "  </tbody>\n",
       "</table>\n",
       "<p>149 rows × 10 columns</p>\n",
       "</div>"
      ],
      "text/plain": [
       "                               address  beds baths   area        price  \\\n",
       "318  1774 N Heather Dr, Orem, UT 84097     7   4.0   3508     $689,000   \n",
       "309        842 N 235 E, Orem, UT 84057     4   1.0   1280     $312,000   \n",
       "110        795 S 800 W, Orem, UT 84058     4   3.0   3040     $520,000   \n",
       "80   178 E 1910th St S, Orem, UT 84058     8   5.0   8921   $1,450,000   \n",
       "343         60 W 255 S, Orem, UT 84058     5   2.0   3148     $540,000   \n",
       "..                                 ...   ...   ...    ...          ...   \n",
       "98    387 E 1350 N #13, Orem, UT 84058     4   3.0   4677   $1,299,900   \n",
       "131   383 E 1375 N #17, Orem, UT 84057     5   4.0   5932   $1,354,900   \n",
       "145       1646 N 160 E, Orem, UT 84057  None   0.0      1   $1,500,000   \n",
       "41        1384 N 450 E, Orem, UT 84097    10  13.0  30386  $25,000,000   \n",
       "86        1090 N 400 E, Orem, UT 84057  None  None      1   $2,000,000   \n",
       "\n",
       "     zestimate  best_deal  price per sq ft  \\\n",
       "318     748300     -59300     1.964082e+02   \n",
       "309     364400     -52400     2.437500e+02   \n",
       "110     562700     -42700     1.710526e+02   \n",
       "80     1485600     -35600     1.625378e+02   \n",
       "343     567200     -27200     1.715375e+02   \n",
       "..         ...        ...              ...   \n",
       "98           0    1299900     2.779346e+02   \n",
       "131          0    1354900     2.284053e+02   \n",
       "145          0    1500000     1.500000e+06   \n",
       "41    23390900    1609100     8.227473e+02   \n",
       "86           0    2000000     2.000000e+06   \n",
       "\n",
       "                                             detailUrl  unformattedPrice  \n",
       "318  https://www.zillow.com/homedetails/1774-N-Heat...            689000  \n",
       "309  https://www.zillow.com/homedetails/842-N-235-E...            312000  \n",
       "110  https://www.zillow.com/homedetails/795-S-800-W...            520000  \n",
       "80   https://www.zillow.com/homedetails/178-E-1910t...           1450000  \n",
       "343  https://www.zillow.com/homedetails/60-W-255-S-...            540000  \n",
       "..                                                 ...               ...  \n",
       "98   https://www.zillow.com/homedetails/387-E-1350-...           1299900  \n",
       "131  https://www.zillow.com/homedetails/383-E-1375-...           1354900  \n",
       "145  https://www.zillow.com/homedetails/1646-N-160-...           1500000  \n",
       "41   https://www.zillow.com/homedetails/1384-N-450-...          25000000  \n",
       "86   https://www.zillow.com/homedetails/1090-N-400-...           2000000  \n",
       "\n",
       "[149 rows x 10 columns]"
      ]
     },
     "execution_count": 94,
     "metadata": {},
     "output_type": "execute_result"
    }
   ],
   "source": [
    "homes"
   ]
  },
  {
   "cell_type": "code",
   "execution_count": 20,
   "id": "5f07e97f",
   "metadata": {},
   "outputs": [],
   "source": [
    "## READ TO CSV FILE\n",
    "\n",
    "# compression_opts = dict(method='zip',\n",
    "#                         archive_name='slchomes_10_19.csv')  \n",
    "# homes.to_csv('slchomes_10_19.zip', index=False,\n",
    "#           compression=compression_opts) "
   ]
  },
  {
   "cell_type": "code",
   "execution_count": 13,
   "id": "1d65c8ff",
   "metadata": {},
   "outputs": [],
   "source": [
    "# make a price range column??? For color as well...\n",
    "\n",
    "# homesnona = homes.dropna()\n",
    "# import plotly.express as px\n",
    "# fig = px.scatter(homesnona, x=\"beds\", y=\"baths\", size = 'area',\n",
    "#                 hover_data=['price'], color = 'price')\n",
    "# fig.show()"
   ]
  },
  {
   "cell_type": "code",
   "execution_count": 102,
   "id": "6f56fb8c",
   "metadata": {},
   "outputs": [
    {
     "name": "stdout",
     "output_type": "stream",
     "text": [
      "address              object\n",
      "beds                float64\n",
      "baths               float64\n",
      "area                  int64\n",
      "price                object\n",
      "zestimate             int64\n",
      "best_deal             int64\n",
      "price per sq ft     float64\n",
      "unformattedPrice      int64\n",
      "dtype: object\n"
     ]
    }
   ],
   "source": [
    "df = homes\n",
    "df['beds'] = df['beds'].astype(float)\n",
    "df['baths'] = df['baths'].astype(float)\n",
    "print(df.dtypes)"
   ]
  },
  {
   "cell_type": "code",
   "execution_count": 103,
   "id": "80a5ebe6",
   "metadata": {
    "scrolled": true
   },
   "outputs": [
    {
     "data": {
      "text/html": [
       "<div>\n",
       "<style scoped>\n",
       "    .dataframe tbody tr th:only-of-type {\n",
       "        vertical-align: middle;\n",
       "    }\n",
       "\n",
       "    .dataframe tbody tr th {\n",
       "        vertical-align: top;\n",
       "    }\n",
       "\n",
       "    .dataframe thead th {\n",
       "        text-align: right;\n",
       "    }\n",
       "</style>\n",
       "<table border=\"1\" class=\"dataframe\">\n",
       "  <thead>\n",
       "    <tr style=\"text-align: right;\">\n",
       "      <th></th>\n",
       "      <th>address</th>\n",
       "      <th>beds</th>\n",
       "      <th>baths</th>\n",
       "      <th>area</th>\n",
       "      <th>price</th>\n",
       "      <th>zestimate</th>\n",
       "      <th>best_deal</th>\n",
       "      <th>price per sq ft</th>\n",
       "      <th>unformattedPrice</th>\n",
       "    </tr>\n",
       "  </thead>\n",
       "  <tbody>\n",
       "    <tr>\n",
       "      <th>count</th>\n",
       "      <td>151</td>\n",
       "      <td>133.000000</td>\n",
       "      <td>134.000000</td>\n",
       "      <td>151.000000</td>\n",
       "      <td>151</td>\n",
       "      <td>1.510000e+02</td>\n",
       "      <td>1.510000e+02</td>\n",
       "      <td>1.510000e+02</td>\n",
       "      <td>1.510000e+02</td>\n",
       "    </tr>\n",
       "    <tr>\n",
       "      <th>unique</th>\n",
       "      <td>151</td>\n",
       "      <td>NaN</td>\n",
       "      <td>NaN</td>\n",
       "      <td>NaN</td>\n",
       "      <td>128</td>\n",
       "      <td>NaN</td>\n",
       "      <td>NaN</td>\n",
       "      <td>NaN</td>\n",
       "      <td>NaN</td>\n",
       "    </tr>\n",
       "    <tr>\n",
       "      <th>top</th>\n",
       "      <td>1774 N Heather Dr, Orem, UT 84097</td>\n",
       "      <td>NaN</td>\n",
       "      <td>NaN</td>\n",
       "      <td>NaN</td>\n",
       "      <td>$499,900</td>\n",
       "      <td>NaN</td>\n",
       "      <td>NaN</td>\n",
       "      <td>NaN</td>\n",
       "      <td>NaN</td>\n",
       "    </tr>\n",
       "    <tr>\n",
       "      <th>freq</th>\n",
       "      <td>1</td>\n",
       "      <td>NaN</td>\n",
       "      <td>NaN</td>\n",
       "      <td>NaN</td>\n",
       "      <td>5</td>\n",
       "      <td>NaN</td>\n",
       "      <td>NaN</td>\n",
       "      <td>NaN</td>\n",
       "      <td>NaN</td>\n",
       "    </tr>\n",
       "    <tr>\n",
       "      <th>mean</th>\n",
       "      <td>NaN</td>\n",
       "      <td>4.270677</td>\n",
       "      <td>3.000000</td>\n",
       "      <td>2629.390728</td>\n",
       "      <td>NaN</td>\n",
       "      <td>5.376699e+05</td>\n",
       "      <td>2.288889e+05</td>\n",
       "      <td>5.552700e+04</td>\n",
       "      <td>7.665588e+05</td>\n",
       "    </tr>\n",
       "    <tr>\n",
       "      <th>std</th>\n",
       "      <td>NaN</td>\n",
       "      <td>1.614929</td>\n",
       "      <td>1.516823</td>\n",
       "      <td>2812.026979</td>\n",
       "      <td>NaN</td>\n",
       "      <td>1.917963e+06</td>\n",
       "      <td>3.871461e+05</td>\n",
       "      <td>2.209559e+05</td>\n",
       "      <td>2.026003e+06</td>\n",
       "    </tr>\n",
       "    <tr>\n",
       "      <th>min</th>\n",
       "      <td>NaN</td>\n",
       "      <td>2.000000</td>\n",
       "      <td>0.000000</td>\n",
       "      <td>1.000000</td>\n",
       "      <td>NaN</td>\n",
       "      <td>0.000000e+00</td>\n",
       "      <td>-5.930000e+04</td>\n",
       "      <td>7.866667e+01</td>\n",
       "      <td>6.490000e+04</td>\n",
       "    </tr>\n",
       "    <tr>\n",
       "      <th>25%</th>\n",
       "      <td>NaN</td>\n",
       "      <td>3.000000</td>\n",
       "      <td>2.000000</td>\n",
       "      <td>1486.000000</td>\n",
       "      <td>NaN</td>\n",
       "      <td>0.000000e+00</td>\n",
       "      <td>4.800000e+03</td>\n",
       "      <td>1.967834e+02</td>\n",
       "      <td>3.990000e+05</td>\n",
       "    </tr>\n",
       "    <tr>\n",
       "      <th>50%</th>\n",
       "      <td>NaN</td>\n",
       "      <td>4.000000</td>\n",
       "      <td>3.000000</td>\n",
       "      <td>2330.000000</td>\n",
       "      <td>NaN</td>\n",
       "      <td>4.350010e+05</td>\n",
       "      <td>1.040000e+04</td>\n",
       "      <td>2.343478e+02</td>\n",
       "      <td>5.090000e+05</td>\n",
       "    </tr>\n",
       "    <tr>\n",
       "      <th>75%</th>\n",
       "      <td>NaN</td>\n",
       "      <td>5.000000</td>\n",
       "      <td>4.000000</td>\n",
       "      <td>3238.000000</td>\n",
       "      <td>NaN</td>\n",
       "      <td>5.413190e+05</td>\n",
       "      <td>3.599750e+05</td>\n",
       "      <td>2.884275e+02</td>\n",
       "      <td>6.749500e+05</td>\n",
       "    </tr>\n",
       "    <tr>\n",
       "      <th>max</th>\n",
       "      <td>NaN</td>\n",
       "      <td>12.000000</td>\n",
       "      <td>13.000000</td>\n",
       "      <td>30386.000000</td>\n",
       "      <td>NaN</td>\n",
       "      <td>2.339090e+07</td>\n",
       "      <td>2.000000e+06</td>\n",
       "      <td>2.000000e+06</td>\n",
       "      <td>2.500000e+07</td>\n",
       "    </tr>\n",
       "  </tbody>\n",
       "</table>\n",
       "</div>"
      ],
      "text/plain": [
       "                                  address        beds       baths  \\\n",
       "count                                 151  133.000000  134.000000   \n",
       "unique                                151         NaN         NaN   \n",
       "top     1774 N Heather Dr, Orem, UT 84097         NaN         NaN   \n",
       "freq                                    1         NaN         NaN   \n",
       "mean                                  NaN    4.270677    3.000000   \n",
       "std                                   NaN    1.614929    1.516823   \n",
       "min                                   NaN    2.000000    0.000000   \n",
       "25%                                   NaN    3.000000    2.000000   \n",
       "50%                                   NaN    4.000000    3.000000   \n",
       "75%                                   NaN    5.000000    4.000000   \n",
       "max                                   NaN   12.000000   13.000000   \n",
       "\n",
       "                area     price     zestimate     best_deal  price per sq ft  \\\n",
       "count     151.000000       151  1.510000e+02  1.510000e+02     1.510000e+02   \n",
       "unique           NaN       128           NaN           NaN              NaN   \n",
       "top              NaN  $499,900           NaN           NaN              NaN   \n",
       "freq             NaN         5           NaN           NaN              NaN   \n",
       "mean     2629.390728       NaN  5.376699e+05  2.288889e+05     5.552700e+04   \n",
       "std      2812.026979       NaN  1.917963e+06  3.871461e+05     2.209559e+05   \n",
       "min         1.000000       NaN  0.000000e+00 -5.930000e+04     7.866667e+01   \n",
       "25%      1486.000000       NaN  0.000000e+00  4.800000e+03     1.967834e+02   \n",
       "50%      2330.000000       NaN  4.350010e+05  1.040000e+04     2.343478e+02   \n",
       "75%      3238.000000       NaN  5.413190e+05  3.599750e+05     2.884275e+02   \n",
       "max     30386.000000       NaN  2.339090e+07  2.000000e+06     2.000000e+06   \n",
       "\n",
       "        unformattedPrice  \n",
       "count       1.510000e+02  \n",
       "unique               NaN  \n",
       "top                  NaN  \n",
       "freq                 NaN  \n",
       "mean        7.665588e+05  \n",
       "std         2.026003e+06  \n",
       "min         6.490000e+04  \n",
       "25%         3.990000e+05  \n",
       "50%         5.090000e+05  \n",
       "75%         6.749500e+05  \n",
       "max         2.500000e+07  "
      ]
     },
     "execution_count": 103,
     "metadata": {},
     "output_type": "execute_result"
    }
   ],
   "source": [
    "df.describe(include='all')"
   ]
  },
  {
   "cell_type": "code",
   "execution_count": 38,
   "id": "e9637fc5",
   "metadata": {},
   "outputs": [
    {
     "data": {
      "text/plain": [
       "address              0\n",
       "beds                18\n",
       "baths               17\n",
       "area                 0\n",
       "price                0\n",
       "zestimate            0\n",
       "best_deal            0\n",
       "price per sq ft      0\n",
       "detailUrl            0\n",
       "unformattedPrice     0\n",
       "dtype: int64"
      ]
     },
     "execution_count": 38,
     "metadata": {},
     "output_type": "execute_result"
    }
   ],
   "source": [
    "df.isnull().sum()"
   ]
  },
  {
   "cell_type": "code",
   "execution_count": 105,
   "id": "9576aada",
   "metadata": {},
   "outputs": [
    {
     "data": {
      "image/png": "[encoded data removed]",
      "text/plain": [
       "<Figure size 1152x648 with 2 Axes>"
      ]
     },
     "metadata": {
      "needs_background": "light"
     },
     "output_type": "display_data"
    }
   ],
   "source": [
    "plt.subplot(221)\n",
    "df['beds'].value_counts().plot(kind='bar', title='Bedrooms/House', figsize=(16,9))\n",
    "plt.xticks(rotation=0)\n",
    "plt.xlabel('Bedrooms')\n",
    "plt.ylabel('Quantity of Homes')\n",
    "\n",
    "plt.subplot(222)\n",
    "df['baths'].value_counts().plot(kind='bar', title='Baths/House')\n",
    "plt.xticks(rotation=0)\n",
    "plt.xlabel('Bathrooms')\n",
    "plt.ylabel('Quantity of Homes')\n",
    "\n",
    "# plt.subplot(223)\n",
    "# df['lunch'].value_counts().plot(kind='bar', title='Lunch status of students')\n",
    "# plt.xticks(rotation=0)\n",
    "\n",
    "# plt.subplot(224)\n",
    "# df['test preparation course'].value_counts().plot(kind='bar', title='Test preparation course')\n",
    "# plt.xticks(rotation=0)\n",
    "\n",
    "plt.show()"
   ]
  },
  {
   "cell_type": "code",
   "execution_count": 12,
   "id": "06f8a176",
   "metadata": {},
   "outputs": [
    {
     "data": {
      "text/plain": [
       "<AxesSubplot:xlabel='area', ylabel='Density'>"
      ]
     },
     "execution_count": 12,
     "metadata": {},
     "output_type": "execute_result"
    },
    {
     "data": {
      "image/png": "[encoded data removed]",
      "text/plain": [
       "<Figure size 432x288 with 1 Axes>"
      ]
     },
     "metadata": {
      "needs_background": "light"
     },
     "output_type": "display_data"
    }
   ],
   "source": [
    "sns.distplot(df['area'])"
   ]
  },
  {
   "cell_type": "code",
   "execution_count": 40,
   "id": "a26bb157",
   "metadata": {},
   "outputs": [
    {
     "data": {
      "image/png": "[encoded data removed]",
      "text/plain": [
       "<Figure size 432x288 with 2 Axes>"
      ]
     },
     "metadata": {
      "needs_background": "light"
     },
     "output_type": "display_data"
    }
   ],
   "source": [
    "corr = df[['baths','beds','unformattedPrice']].corr()\n",
    "sns.heatmap(corr, annot=True, square=True)\n",
    "plt.yticks(rotation=0)\n",
    "plt.show()"
   ]
  },
  {
   "cell_type": "code",
   "execution_count": 43,
   "id": "05dc7f2e",
   "metadata": {},
   "outputs": [
    {
     "data": {
      "text/plain": [
       "<seaborn.axisgrid.FacetGrid at 0x7f9adcf758b0>"
      ]
     },
     "execution_count": 43,
     "metadata": {},
     "output_type": "execute_result"
    },
    {
     "data": {
      "image/png": "[encoded data removed]",
      "text/plain": [
       "<Figure size 360x360 with 1 Axes>"
      ]
     },
     "metadata": {
      "needs_background": "light"
     },
     "output_type": "display_data"
    }
   ],
   "source": [
    "sns.relplot(x='baths', y='beds', data=df)"
   ]
  },
  {
   "cell_type": "code",
   "execution_count": 46,
   "id": "54b850b1",
   "metadata": {},
   "outputs": [
    {
     "data": {
      "text/plain": [
       "<seaborn.axisgrid.FacetGrid at 0x7f9adccd7910>"
      ]
     },
     "execution_count": 46,
     "metadata": {},
     "output_type": "execute_result"
    },
    {
     "data": {
      "image/png": "[encoded data removed]",
      "text/plain": [
       "<Figure size 360x360 with 1 Axes>"
      ]
     },
     "metadata": {
      "needs_background": "light"
     },
     "output_type": "display_data"
    }
   ],
   "source": [
    "sns.relplot(x='best_deal', y='unformattedPrice', data=df)"
   ]
  },
  {
   "cell_type": "code",
   "execution_count": 87,
   "id": "9bfa3cc5",
   "metadata": {},
   "outputs": [
    {
     "data": {
      "text/plain": [
       "<seaborn.axisgrid.FacetGrid at 0x7f9adc98c460>"
      ]
     },
     "execution_count": 87,
     "metadata": {},
     "output_type": "execute_result"
    },
    {
     "data": {
      "image/png": "[encoded data removed]",
      "text/plain": [
       "<Figure size 360x360 with 1 Axes>"
      ]
     },
     "metadata": {
      "needs_background": "light"
     },
     "output_type": "display_data"
    }
   ],
   "source": [
    "df = df[(np.abs(stats.zscore(df['unformattedPrice'])) < 3)]\n",
    "sns.relplot(x='best_deal', y='unformattedPrice', data=df)"
   ]
  },
  {
   "cell_type": "code",
   "execution_count": 88,
   "id": "01f44024",
   "metadata": {},
   "outputs": [
    {
     "ename": "NameError",
     "evalue": "name 'eda' is not defined",
     "output_type": "error",
     "traceback": [
      "\u001b[0;31m---------------------------------------------------------------------------\u001b[0m",
      "\u001b[0;31mNameError\u001b[0m                                 Traceback (most recent call last)",
      "Input \u001b[0;32mIn [88]\u001b[0m, in \u001b[0;36m<module>\u001b[0;34m\u001b[0m\n\u001b[0;32m----> 1\u001b[0m \u001b[43meda\u001b[49m(df)\n",
      "\u001b[0;31mNameError\u001b[0m: name 'eda' is not defined"
     ]
    }
   ],
   "source": []
  },
  {
   "cell_type": "code",
   "execution_count": null,
   "id": "53cefe9c",
   "metadata": {},
   "outputs": [],
   "source": []
  }
 ],
 "metadata": {
  "kernelspec": {
   "display_name": "Python 3 (ipykernel)",
   "language": "python",
   "name": "python3"
  },
  "language_info": {
   "codemirror_mode": {
    "name": "ipython",
    "version": 3
   },
   "file_extension": ".py",
   "mimetype": "text/x-python",
   "name": "python",
   "nbconvert_exporter": "python",
   "pygments_lexer": "ipython3",
   "version": "3.8.10"
  }
 },
 "nbformat": 4,
 "nbformat_minor": 5
}
